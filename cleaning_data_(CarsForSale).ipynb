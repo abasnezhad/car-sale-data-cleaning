{
  "nbformat": 4,
  "nbformat_minor": 0,
  "metadata": {
    "colab": {
      "name": "cleaning data (CarsForSale).ipynb",
      "provenance": [],
      "authorship_tag": "ABX9TyPNHBDe5TGEekrgaqw9ROHW",
      "include_colab_link": true
    },
    "kernelspec": {
      "name": "python3",
      "display_name": "Python 3"
    },
    "language_info": {
      "name": "python"
    }
  },
  "cells": [
    {
      "cell_type": "markdown",
      "metadata": {
        "id": "view-in-github",
        "colab_type": "text"
      },
      "source": [
        "<a href=\"https://colab.research.google.com/github/abasnezhad/Kaggle/blob/main/cleaning_data_(CarsForSale).ipynb\" target=\"_parent\"><img src=\"https://colab.research.google.com/assets/colab-badge.svg\" alt=\"Open In Colab\"/></a>"
      ]
    },
    {
      "cell_type": "code",
      "execution_count": 1,
      "metadata": {
        "id": "tHzt-h3lNW2m"
      },
      "outputs": [],
      "source": [
        "import pandas as pd\n",
        "import numpy as np"
      ]
    },
    {
      "cell_type": "code",
      "source": [
        "df = pd.read_csv(\"cars_raw.csv\")"
      ],
      "metadata": {
        "id": "xHc3EUoCNbaz"
      },
      "execution_count": 2,
      "outputs": []
    },
    {
      "cell_type": "code",
      "source": [
        "df.sample(2)"
      ],
      "metadata": {
        "colab": {
          "base_uri": "https://localhost:8080/",
          "height": 344
        },
        "id": "UYQe4WahNfHF",
        "outputId": "a4da8afa-c34f-4666-9b0e-115327d48813"
      },
      "execution_count": 3,
      "outputs": [
        {
          "output_type": "execute_result",
          "data": {
            "text/plain": [
              "      Year  Make            Model Used/New    Price  ConsumerRating  \\\n",
              "790   2019  Audi  Q8 3.0T Premium     Used  $64,297             4.8   \n",
              "8169  2019   BMW     X5 xDrive40i     Used  $54,988             4.7   \n",
              "\n",
              "      ConsumerReviews SellerType               SellerName  SellerRating  ...  \\\n",
              "790                27     Dealer  John Thornton Buick GMC           4.7  ...   \n",
              "8169               55     Dealer            Audi Westwood           4.6  ...   \n",
              "\n",
              "      InteriorColor       Drivetrain MinMPG MaxMPG  FuelType  \\\n",
              "790           Black  All-wheel Drive     17     22  Gasoline   \n",
              "8169        Amarone  All-wheel Drive     20     26  Gasoline   \n",
              "\n",
              "           Transmission                      Engine                VIN  \\\n",
              "790   8-Speed Automatic  3.0L V6 24V GDI DOHC Turbo  WA1FVAF19KD040701   \n",
              "8169  8-Speed Automatic  3.0L I6 24V GDI DOHC Turbo  5UXCR6C56KLL60791   \n",
              "\n",
              "        Stock#  Mileage  \n",
              "790     NG640A    36918  \n",
              "8169  KLL60791    20207  \n",
              "\n",
              "[2 rows x 32 columns]"
            ],
            "text/html": [
              "\n",
              "  <div id=\"df-5fba6a01-a09d-491b-a254-b15ce60f3b6d\">\n",
              "    <div class=\"colab-df-container\">\n",
              "      <div>\n",
              "<style scoped>\n",
              "    .dataframe tbody tr th:only-of-type {\n",
              "        vertical-align: middle;\n",
              "    }\n",
              "\n",
              "    .dataframe tbody tr th {\n",
              "        vertical-align: top;\n",
              "    }\n",
              "\n",
              "    .dataframe thead th {\n",
              "        text-align: right;\n",
              "    }\n",
              "</style>\n",
              "<table border=\"1\" class=\"dataframe\">\n",
              "  <thead>\n",
              "    <tr style=\"text-align: right;\">\n",
              "      <th></th>\n",
              "      <th>Year</th>\n",
              "      <th>Make</th>\n",
              "      <th>Model</th>\n",
              "      <th>Used/New</th>\n",
              "      <th>Price</th>\n",
              "      <th>ConsumerRating</th>\n",
              "      <th>ConsumerReviews</th>\n",
              "      <th>SellerType</th>\n",
              "      <th>SellerName</th>\n",
              "      <th>SellerRating</th>\n",
              "      <th>...</th>\n",
              "      <th>InteriorColor</th>\n",
              "      <th>Drivetrain</th>\n",
              "      <th>MinMPG</th>\n",
              "      <th>MaxMPG</th>\n",
              "      <th>FuelType</th>\n",
              "      <th>Transmission</th>\n",
              "      <th>Engine</th>\n",
              "      <th>VIN</th>\n",
              "      <th>Stock#</th>\n",
              "      <th>Mileage</th>\n",
              "    </tr>\n",
              "  </thead>\n",
              "  <tbody>\n",
              "    <tr>\n",
              "      <th>790</th>\n",
              "      <td>2019</td>\n",
              "      <td>Audi</td>\n",
              "      <td>Q8 3.0T Premium</td>\n",
              "      <td>Used</td>\n",
              "      <td>$64,297</td>\n",
              "      <td>4.8</td>\n",
              "      <td>27</td>\n",
              "      <td>Dealer</td>\n",
              "      <td>John Thornton Buick GMC</td>\n",
              "      <td>4.7</td>\n",
              "      <td>...</td>\n",
              "      <td>Black</td>\n",
              "      <td>All-wheel Drive</td>\n",
              "      <td>17</td>\n",
              "      <td>22</td>\n",
              "      <td>Gasoline</td>\n",
              "      <td>8-Speed Automatic</td>\n",
              "      <td>3.0L V6 24V GDI DOHC Turbo</td>\n",
              "      <td>WA1FVAF19KD040701</td>\n",
              "      <td>NG640A</td>\n",
              "      <td>36918</td>\n",
              "    </tr>\n",
              "    <tr>\n",
              "      <th>8169</th>\n",
              "      <td>2019</td>\n",
              "      <td>BMW</td>\n",
              "      <td>X5 xDrive40i</td>\n",
              "      <td>Used</td>\n",
              "      <td>$54,988</td>\n",
              "      <td>4.7</td>\n",
              "      <td>55</td>\n",
              "      <td>Dealer</td>\n",
              "      <td>Audi Westwood</td>\n",
              "      <td>4.6</td>\n",
              "      <td>...</td>\n",
              "      <td>Amarone</td>\n",
              "      <td>All-wheel Drive</td>\n",
              "      <td>20</td>\n",
              "      <td>26</td>\n",
              "      <td>Gasoline</td>\n",
              "      <td>8-Speed Automatic</td>\n",
              "      <td>3.0L I6 24V GDI DOHC Turbo</td>\n",
              "      <td>5UXCR6C56KLL60791</td>\n",
              "      <td>KLL60791</td>\n",
              "      <td>20207</td>\n",
              "    </tr>\n",
              "  </tbody>\n",
              "</table>\n",
              "<p>2 rows × 32 columns</p>\n",
              "</div>\n",
              "      <button class=\"colab-df-convert\" onclick=\"convertToInteractive('df-5fba6a01-a09d-491b-a254-b15ce60f3b6d')\"\n",
              "              title=\"Convert this dataframe to an interactive table.\"\n",
              "              style=\"display:none;\">\n",
              "        \n",
              "  <svg xmlns=\"http://www.w3.org/2000/svg\" height=\"24px\"viewBox=\"0 0 24 24\"\n",
              "       width=\"24px\">\n",
              "    <path d=\"M0 0h24v24H0V0z\" fill=\"none\"/>\n",
              "    <path d=\"M18.56 5.44l.94 2.06.94-2.06 2.06-.94-2.06-.94-.94-2.06-.94 2.06-2.06.94zm-11 1L8.5 8.5l.94-2.06 2.06-.94-2.06-.94L8.5 2.5l-.94 2.06-2.06.94zm10 10l.94 2.06.94-2.06 2.06-.94-2.06-.94-.94-2.06-.94 2.06-2.06.94z\"/><path d=\"M17.41 7.96l-1.37-1.37c-.4-.4-.92-.59-1.43-.59-.52 0-1.04.2-1.43.59L10.3 9.45l-7.72 7.72c-.78.78-.78 2.05 0 2.83L4 21.41c.39.39.9.59 1.41.59.51 0 1.02-.2 1.41-.59l7.78-7.78 2.81-2.81c.8-.78.8-2.07 0-2.86zM5.41 20L4 18.59l7.72-7.72 1.47 1.35L5.41 20z\"/>\n",
              "  </svg>\n",
              "      </button>\n",
              "      \n",
              "  <style>\n",
              "    .colab-df-container {\n",
              "      display:flex;\n",
              "      flex-wrap:wrap;\n",
              "      gap: 12px;\n",
              "    }\n",
              "\n",
              "    .colab-df-convert {\n",
              "      background-color: #E8F0FE;\n",
              "      border: none;\n",
              "      border-radius: 50%;\n",
              "      cursor: pointer;\n",
              "      display: none;\n",
              "      fill: #1967D2;\n",
              "      height: 32px;\n",
              "      padding: 0 0 0 0;\n",
              "      width: 32px;\n",
              "    }\n",
              "\n",
              "    .colab-df-convert:hover {\n",
              "      background-color: #E2EBFA;\n",
              "      box-shadow: 0px 1px 2px rgba(60, 64, 67, 0.3), 0px 1px 3px 1px rgba(60, 64, 67, 0.15);\n",
              "      fill: #174EA6;\n",
              "    }\n",
              "\n",
              "    [theme=dark] .colab-df-convert {\n",
              "      background-color: #3B4455;\n",
              "      fill: #D2E3FC;\n",
              "    }\n",
              "\n",
              "    [theme=dark] .colab-df-convert:hover {\n",
              "      background-color: #434B5C;\n",
              "      box-shadow: 0px 1px 3px 1px rgba(0, 0, 0, 0.15);\n",
              "      filter: drop-shadow(0px 1px 2px rgba(0, 0, 0, 0.3));\n",
              "      fill: #FFFFFF;\n",
              "    }\n",
              "  </style>\n",
              "\n",
              "      <script>\n",
              "        const buttonEl =\n",
              "          document.querySelector('#df-5fba6a01-a09d-491b-a254-b15ce60f3b6d button.colab-df-convert');\n",
              "        buttonEl.style.display =\n",
              "          google.colab.kernel.accessAllowed ? 'block' : 'none';\n",
              "\n",
              "        async function convertToInteractive(key) {\n",
              "          const element = document.querySelector('#df-5fba6a01-a09d-491b-a254-b15ce60f3b6d');\n",
              "          const dataTable =\n",
              "            await google.colab.kernel.invokeFunction('convertToInteractive',\n",
              "                                                     [key], {});\n",
              "          if (!dataTable) return;\n",
              "\n",
              "          const docLinkHtml = 'Like what you see? Visit the ' +\n",
              "            '<a target=\"_blank\" href=https://colab.research.google.com/notebooks/data_table.ipynb>data table notebook</a>'\n",
              "            + ' to learn more about interactive tables.';\n",
              "          element.innerHTML = '';\n",
              "          dataTable['output_type'] = 'display_data';\n",
              "          await google.colab.output.renderOutput(dataTable, element);\n",
              "          const docLink = document.createElement('div');\n",
              "          docLink.innerHTML = docLinkHtml;\n",
              "          element.appendChild(docLink);\n",
              "        }\n",
              "      </script>\n",
              "    </div>\n",
              "  </div>\n",
              "  "
            ]
          },
          "metadata": {},
          "execution_count": 3
        }
      ]
    },
    {
      "cell_type": "code",
      "source": [
        "columns=list(df.columns)\n",
        "columns"
      ],
      "metadata": {
        "colab": {
          "base_uri": "https://localhost:8080/"
        },
        "id": "ueW7e17WNqzN",
        "outputId": "f84a0593-edd6-4b87-fc73-a1d1724c79b3"
      },
      "execution_count": 4,
      "outputs": [
        {
          "output_type": "execute_result",
          "data": {
            "text/plain": [
              "['Year',\n",
              " 'Make',\n",
              " 'Model',\n",
              " 'Used/New',\n",
              " 'Price',\n",
              " 'ConsumerRating',\n",
              " 'ConsumerReviews',\n",
              " 'SellerType',\n",
              " 'SellerName',\n",
              " 'SellerRating',\n",
              " 'SellerReviews',\n",
              " 'StreetName',\n",
              " 'State',\n",
              " 'Zipcode',\n",
              " 'DealType',\n",
              " 'ComfortRating',\n",
              " 'InteriorDesignRating',\n",
              " 'PerformanceRating',\n",
              " 'ValueForMoneyRating',\n",
              " 'ExteriorStylingRating',\n",
              " 'ReliabilityRating',\n",
              " 'ExteriorColor',\n",
              " 'InteriorColor',\n",
              " 'Drivetrain',\n",
              " 'MinMPG',\n",
              " 'MaxMPG',\n",
              " 'FuelType',\n",
              " 'Transmission',\n",
              " 'Engine',\n",
              " 'VIN',\n",
              " 'Stock#',\n",
              " 'Mileage']"
            ]
          },
          "metadata": {},
          "execution_count": 4
        }
      ]
    },
    {
      "cell_type": "code",
      "source": [
        "print(\"shape: \", df.shape)\n"
      ],
      "metadata": {
        "colab": {
          "base_uri": "https://localhost:8080/"
        },
        "id": "g7armA-BN2om",
        "outputId": "fe8cdf02-9c9a-4248-f7a2-306f4ac7c85d"
      },
      "execution_count": 5,
      "outputs": [
        {
          "output_type": "stream",
          "name": "stdout",
          "text": [
            "shape:  (9379, 32)\n"
          ]
        }
      ]
    },
    {
      "cell_type": "code",
      "source": [
        "df.isnull().sum()"
      ],
      "metadata": {
        "colab": {
          "base_uri": "https://localhost:8080/"
        },
        "id": "AuE770rIN3yG",
        "outputId": "fd343f2f-5b01-4d08-8d0b-8fa3a0382fbb"
      },
      "execution_count": 6,
      "outputs": [
        {
          "output_type": "execute_result",
          "data": {
            "text/plain": [
              "Year                       0\n",
              "Make                       0\n",
              "Model                      0\n",
              "Used/New                   0\n",
              "Price                      0\n",
              "ConsumerRating             0\n",
              "ConsumerReviews            0\n",
              "SellerType                 0\n",
              "SellerName                 0\n",
              "SellerRating               0\n",
              "SellerReviews              0\n",
              "StreetName                 0\n",
              "State                      0\n",
              "Zipcode                    0\n",
              "DealType                 222\n",
              "ComfortRating              0\n",
              "InteriorDesignRating       0\n",
              "PerformanceRating          0\n",
              "ValueForMoneyRating        0\n",
              "ExteriorStylingRating      0\n",
              "ReliabilityRating          0\n",
              "ExteriorColor              0\n",
              "InteriorColor              0\n",
              "Drivetrain                 0\n",
              "MinMPG                     0\n",
              "MaxMPG                     0\n",
              "FuelType                   0\n",
              "Transmission               0\n",
              "Engine                     0\n",
              "VIN                        0\n",
              "Stock#                     0\n",
              "Mileage                    0\n",
              "dtype: int64"
            ]
          },
          "metadata": {},
          "execution_count": 6
        }
      ]
    },
    {
      "cell_type": "code",
      "source": [
        " df.dtypes"
      ],
      "metadata": {
        "colab": {
          "base_uri": "https://localhost:8080/"
        },
        "id": "Wg0Urg3UOqon",
        "outputId": "7b4acb1e-c8d9-46c6-abc9-e32d57622a3c"
      },
      "execution_count": 7,
      "outputs": [
        {
          "output_type": "execute_result",
          "data": {
            "text/plain": [
              "Year                       int64\n",
              "Make                      object\n",
              "Model                     object\n",
              "Used/New                  object\n",
              "Price                     object\n",
              "ConsumerRating           float64\n",
              "ConsumerReviews            int64\n",
              "SellerType                object\n",
              "SellerName                object\n",
              "SellerRating             float64\n",
              "SellerReviews              int64\n",
              "StreetName                object\n",
              "State                     object\n",
              "Zipcode                   object\n",
              "DealType                  object\n",
              "ComfortRating            float64\n",
              "InteriorDesignRating     float64\n",
              "PerformanceRating        float64\n",
              "ValueForMoneyRating      float64\n",
              "ExteriorStylingRating    float64\n",
              "ReliabilityRating        float64\n",
              "ExteriorColor             object\n",
              "InteriorColor             object\n",
              "Drivetrain                object\n",
              "MinMPG                     int64\n",
              "MaxMPG                     int64\n",
              "FuelType                  object\n",
              "Transmission              object\n",
              "Engine                    object\n",
              "VIN                       object\n",
              "Stock#                    object\n",
              "Mileage                    int64\n",
              "dtype: object"
            ]
          },
          "metadata": {},
          "execution_count": 7
        }
      ]
    },
    {
      "cell_type": "code",
      "source": [
        "# revising the price \n",
        "df['Price'] = [price.replace('$','') for price in df['Price']]\n",
        "df['Price'] = [price.replace(',','') for price in df['Price']]\n"
      ],
      "metadata": {
        "id": "hpszpTwqYhGE"
      },
      "execution_count": 8,
      "outputs": []
    },
    {
      "cell_type": "code",
      "source": [
        "df['Price'] = [int(price) for price in df['Price']]\n",
        "#for i in range(len(df)):\n",
        " # df['Price'].iloc[i]=int(df['Price'].iloc[i])"
      ],
      "metadata": {
        "colab": {
          "base_uri": "https://localhost:8080/",
          "height": 299
        },
        "id": "Rs_qWcCIYmhD",
        "outputId": "8cac08cd-29a3-499a-931f-f22850dc7b51"
      },
      "execution_count": 9,
      "outputs": [
        {
          "output_type": "error",
          "ename": "ValueError",
          "evalue": "ignored",
          "traceback": [
            "\u001b[0;31m---------------------------------------------------------------------------\u001b[0m",
            "\u001b[0;31mValueError\u001b[0m                                Traceback (most recent call last)",
            "\u001b[0;32m<ipython-input-9-84d78d150705>\u001b[0m in \u001b[0;36m<module>\u001b[0;34m\u001b[0m\n\u001b[0;32m----> 1\u001b[0;31m \u001b[0mdf\u001b[0m\u001b[0;34m[\u001b[0m\u001b[0;34m'Price'\u001b[0m\u001b[0;34m]\u001b[0m \u001b[0;34m=\u001b[0m \u001b[0;34m[\u001b[0m\u001b[0mint\u001b[0m\u001b[0;34m(\u001b[0m\u001b[0mprice\u001b[0m\u001b[0;34m)\u001b[0m \u001b[0;32mfor\u001b[0m \u001b[0mprice\u001b[0m \u001b[0;32min\u001b[0m \u001b[0mdf\u001b[0m\u001b[0;34m[\u001b[0m\u001b[0;34m'Price'\u001b[0m\u001b[0;34m]\u001b[0m\u001b[0;34m]\u001b[0m\u001b[0;34m\u001b[0m\u001b[0;34m\u001b[0m\u001b[0m\n\u001b[0m\u001b[1;32m      2\u001b[0m \u001b[0;31m#for i in range(len(df)):\u001b[0m\u001b[0;34m\u001b[0m\u001b[0;34m\u001b[0m\u001b[0;34m\u001b[0m\u001b[0m\n\u001b[1;32m      3\u001b[0m  \u001b[0;31m# df['Price'].iloc[i]=int(df['Price'].iloc[i])\u001b[0m\u001b[0;34m\u001b[0m\u001b[0;34m\u001b[0m\u001b[0;34m\u001b[0m\u001b[0m\n",
            "\u001b[0;32m<ipython-input-9-84d78d150705>\u001b[0m in \u001b[0;36m<listcomp>\u001b[0;34m(.0)\u001b[0m\n\u001b[0;32m----> 1\u001b[0;31m \u001b[0mdf\u001b[0m\u001b[0;34m[\u001b[0m\u001b[0;34m'Price'\u001b[0m\u001b[0;34m]\u001b[0m \u001b[0;34m=\u001b[0m \u001b[0;34m[\u001b[0m\u001b[0mint\u001b[0m\u001b[0;34m(\u001b[0m\u001b[0mprice\u001b[0m\u001b[0;34m)\u001b[0m \u001b[0;32mfor\u001b[0m \u001b[0mprice\u001b[0m \u001b[0;32min\u001b[0m \u001b[0mdf\u001b[0m\u001b[0;34m[\u001b[0m\u001b[0;34m'Price'\u001b[0m\u001b[0;34m]\u001b[0m\u001b[0;34m]\u001b[0m\u001b[0;34m\u001b[0m\u001b[0;34m\u001b[0m\u001b[0m\n\u001b[0m\u001b[1;32m      2\u001b[0m \u001b[0;31m#for i in range(len(df)):\u001b[0m\u001b[0;34m\u001b[0m\u001b[0;34m\u001b[0m\u001b[0;34m\u001b[0m\u001b[0m\n\u001b[1;32m      3\u001b[0m  \u001b[0;31m# df['Price'].iloc[i]=int(df['Price'].iloc[i])\u001b[0m\u001b[0;34m\u001b[0m\u001b[0;34m\u001b[0m\u001b[0;34m\u001b[0m\u001b[0m\n",
            "\u001b[0;31mValueError\u001b[0m: invalid literal for int() with base 10: 'Not Priced'"
          ]
        }
      ]
    },
    {
      "cell_type": "code",
      "source": [
        "df[df['Price']=='Not Priced'].index"
      ],
      "metadata": {
        "id": "UlEVQDbTgqQG"
      },
      "execution_count": null,
      "outputs": []
    },
    {
      "cell_type": "code",
      "source": [
        "df = df[df['Price'] != 'Not Priced']"
      ],
      "metadata": {
        "id": "D2kyh53EgngS"
      },
      "execution_count": 10,
      "outputs": []
    },
    {
      "cell_type": "code",
      "source": [
        "df['Price'] = [int(price) for price in df['Price']]\n"
      ],
      "metadata": {
        "id": "PlnfZIqgeOQz"
      },
      "execution_count": 11,
      "outputs": []
    },
    {
      "cell_type": "code",
      "source": [
        "df.dtypes"
      ],
      "metadata": {
        "colab": {
          "base_uri": "https://localhost:8080/"
        },
        "id": "PZsAF1jwOuu9",
        "outputId": "798ced61-0998-46e5-de4b-534a5ad91003"
      },
      "execution_count": 12,
      "outputs": [
        {
          "output_type": "execute_result",
          "data": {
            "text/plain": [
              "Year                       int64\n",
              "Make                      object\n",
              "Model                     object\n",
              "Used/New                  object\n",
              "Price                      int64\n",
              "ConsumerRating           float64\n",
              "ConsumerReviews            int64\n",
              "SellerType                object\n",
              "SellerName                object\n",
              "SellerRating             float64\n",
              "SellerReviews              int64\n",
              "StreetName                object\n",
              "State                     object\n",
              "Zipcode                   object\n",
              "DealType                  object\n",
              "ComfortRating            float64\n",
              "InteriorDesignRating     float64\n",
              "PerformanceRating        float64\n",
              "ValueForMoneyRating      float64\n",
              "ExteriorStylingRating    float64\n",
              "ReliabilityRating        float64\n",
              "ExteriorColor             object\n",
              "InteriorColor             object\n",
              "Drivetrain                object\n",
              "MinMPG                     int64\n",
              "MaxMPG                     int64\n",
              "FuelType                  object\n",
              "Transmission              object\n",
              "Engine                    object\n",
              "VIN                       object\n",
              "Stock#                    object\n",
              "Mileage                    int64\n",
              "dtype: object"
            ]
          },
          "metadata": {},
          "execution_count": 12
        }
      ]
    },
    {
      "cell_type": "code",
      "source": [
        "df['Used/New'].unique()"
      ],
      "metadata": {
        "colab": {
          "base_uri": "https://localhost:8080/"
        },
        "id": "BQaAtMO3jK-T",
        "outputId": "5017b5bb-9346-4e42-a5fc-4fc584c80dae"
      },
      "execution_count": 13,
      "outputs": [
        {
          "output_type": "execute_result",
          "data": {
            "text/plain": [
              "array(['Used', 'Dodge Certified', 'Acura Certified', 'Honda Certified',\n",
              "       'Mercedes-Benz Certified', 'Ford Certified', 'Toyota Certified',\n",
              "       'BMW Certified', 'Porsche Certified', 'Cadillac Certified',\n",
              "       'Volvo Certified', 'Nissan Certified', 'Subaru Certified',\n",
              "       'Volkswagen Certified', 'INFINITI Certified',\n",
              "       'Chevrolet Certified', 'Kia Certified', 'RAM Certified',\n",
              "       'Jeep Certified', 'GMC Certified', 'Buick Certified',\n",
              "       'Alfa Romeo Certified', 'Bentley Certified', 'MINI Certified',\n",
              "       'Ferrari Certified', 'Maserati Certified'], dtype=object)"
            ]
          },
          "metadata": {},
          "execution_count": 13
        }
      ]
    },
    {
      "cell_type": "code",
      "source": [
        "df['Used/New']=['Certified Pre-Owned' if 'certified' in item.casefold()\n",
        "                  else 'Used' for item in df['Used/New']]"
      ],
      "metadata": {
        "id": "6_hiXc9zj69j"
      },
      "execution_count": 14,
      "outputs": []
    },
    {
      "cell_type": "code",
      "source": [
        "df.Drivetrain.unique()"
      ],
      "metadata": {
        "colab": {
          "base_uri": "https://localhost:8080/"
        },
        "id": "muYTT1yXKgof",
        "outputId": "5ac26251-b726-4972-99b4-e347521c58df"
      },
      "execution_count": 15,
      "outputs": [
        {
          "output_type": "execute_result",
          "data": {
            "text/plain": [
              "array(['Front-wheel Drive', 'Four-wheel Drive', 'Rear-wheel Drive',\n",
              "       'All-wheel Drive', '4WD', 'AWD', 'RWD', 'FWD', 'Front Wheel Drive',\n",
              "       '–'], dtype=object)"
            ]
          },
          "metadata": {},
          "execution_count": 15
        }
      ]
    },
    {
      "cell_type": "code",
      "source": [
        "df = df[df['Drivetrain'] != '–']"
      ],
      "metadata": {
        "id": "vXHgt1upPKnn"
      },
      "execution_count": 16,
      "outputs": []
    },
    {
      "cell_type": "code",
      "source": [
        "\n",
        "\n",
        "df['Drivetrain'] = ['4WD' if 'four' in item.casefold()\n",
        "                   else 'AWD' if 'all' in item.casefold()\n",
        "                   else 'RWD' if 'rear' in item.casefold()\n",
        "                   else 'FWD' for item in df['Drivetrain']]\n",
        "\n",
        "\n",
        "\n"
      ],
      "metadata": {
        "id": "SX-ztI0PK_Fc"
      },
      "execution_count": 17,
      "outputs": []
    },
    {
      "cell_type": "code",
      "source": [
        "df['FuelType'].unique()"
      ],
      "metadata": {
        "colab": {
          "base_uri": "https://localhost:8080/"
        },
        "id": "iUObSGd-OtEs",
        "outputId": "871b35d8-d2ec-4cde-f4f9-f67ca0cc3d6e"
      },
      "execution_count": 18,
      "outputs": [
        {
          "output_type": "execute_result",
          "data": {
            "text/plain": [
              "array(['Gasoline', 'Gasoline Fuel', 'Electric Fuel System',\n",
              "       'E85 Flex Fuel', 'Electric', 'Hybrid', 'Plug-In Electric/Gas', '–',\n",
              "       'Flex Fuel Capability', 'Diesel', 'Diesel Fuel',\n",
              "       'Gasoline/Mild Electric Hybrid', 'Flexible Fuel'], dtype=object)"
            ]
          },
          "metadata": {},
          "execution_count": 18
        }
      ]
    },
    {
      "cell_type": "code",
      "source": [
        "df = df[df['FuelType'] != '–']\n",
        "\n",
        "#Modify 'FuelType' column\n",
        "df['FuelType'] = ['Hybrid' if 'hybrid' in item.casefold()\n",
        "                 else 'Hybrid' if 'plug' in item.casefold()\n",
        "                 else 'Flex' if 'flex' in item.casefold()\n",
        "                 else 'Electric' if 'electric' in item.casefold()\n",
        "                 else 'Diesel' if 'diesel' in item.casefold()\n",
        "                 else 'Gas' for item in df['FuelType']]"
      ],
      "metadata": {
        "id": "x6AMPfHRNg5E",
        "colab": {
          "base_uri": "https://localhost:8080/"
        },
        "outputId": "cae8b3fd-3ae0-4e0c-93c6-4c74eb4f2e0f"
      },
      "execution_count": 19,
      "outputs": [
        {
          "output_type": "stream",
          "name": "stderr",
          "text": [
            "/usr/local/lib/python3.7/dist-packages/ipykernel_launcher.py:9: SettingWithCopyWarning: \n",
            "A value is trying to be set on a copy of a slice from a DataFrame.\n",
            "Try using .loc[row_indexer,col_indexer] = value instead\n",
            "\n",
            "See the caveats in the documentation: https://pandas.pydata.org/pandas-docs/stable/user_guide/indexing.html#returning-a-view-versus-a-copy\n",
            "  if __name__ == '__main__':\n"
          ]
        }
      ]
    },
    {
      "cell_type": "code",
      "source": [
        "\n",
        "#One-hot encoding without pd.get_dummies\n",
        "df['Used/New'] = [1 if item == 'Used' else 0 for item in df['Used/New']]\n",
        "df['SellerType'] = [1 if item == 'Dealer' else 0 for item in df['SellerType']]"
      ],
      "metadata": {
        "id": "nPSqgDHfL6tK"
      },
      "execution_count": 20,
      "outputs": []
    },
    {
      "cell_type": "code",
      "source": [
        "df['DealType'].unique()"
      ],
      "metadata": {
        "colab": {
          "base_uri": "https://localhost:8080/"
        },
        "id": "vrM_QBqiNbNQ",
        "outputId": "b5d97ee1-408e-4631-eefd-107da9553d9c"
      },
      "execution_count": 21,
      "outputs": [
        {
          "output_type": "execute_result",
          "data": {
            "text/plain": [
              "array(['Great', 'Good', nan, 'Fair'], dtype=object)"
            ]
          },
          "metadata": {},
          "execution_count": 21
        }
      ]
    },
    {
      "cell_type": "code",
      "source": [
        "#Modify 'DealType' column\n",
        "df['DealType'].fillna('None', inplace=True)\n",
        "df = df[df['DealType'] != 'None']"
      ],
      "metadata": {
        "id": "ILcIgD9rQqGX"
      },
      "execution_count": 22,
      "outputs": []
    },
    {
      "cell_type": "code",
      "source": [
        "df['Transmission'].unique()"
      ],
      "metadata": {
        "colab": {
          "base_uri": "https://localhost:8080/"
        },
        "id": "CbAqTMBRQ6tA",
        "outputId": "4bb94a2e-4e1b-4438-87ab-26bae2f41e52"
      },
      "execution_count": 23,
      "outputs": [
        {
          "output_type": "execute_result",
          "data": {
            "text/plain": [
              "array(['8-Speed Automatic', '10-Speed Automatic', '5-Speed Automatic',\n",
              "       'Automatic CVT', '7-Speed Automatic', '9-Speed Automatic',\n",
              "       '6-Speed Automatic', 'Automatic', '6-Speed A/T',\n",
              "       '7-Speed Automatic with Auto-Shift',\n",
              "       'Transmission w/Dual Shift Mode', 'A/T', '8-SPEED A/T',\n",
              "       '8-Speed Automatic with Auto-Shift', '8-Speed A/T', '9-SPEED A/T',\n",
              "       '6-SPEED A/T', '5-SPEED M/T', '4-Speed Automatic',\n",
              "       '1-Speed Automatic', 'Automatic with Overdrive', 'CVT 7-Speed',\n",
              "       'Automatic 5-Speed', '9-Speed A/T', '–', 'CVT', 'Variable',\n",
              "       'sport automatic', 'Manual', '6-Speed Automatic with Auto-Shift',\n",
              "       '6-Speed Manual', '5-SPEED A/T',\n",
              "       '6-Speed Automatic with Overdrive', '7-SPEED A/T', '7-Speed A/T',\n",
              "       '9g tronic automatic', '5-Speed Manual', 'Automatic 6-Speed',\n",
              "       '1 speed automatic', '10-Speed A/T', 'CVT 6-Speed',\n",
              "       'Automatic with Tiptronic', '6-Speed M/T',\n",
              "       '8 speed automatic w/sportmatic', 'A', 'AUTOMATIC', '7-Speed',\n",
              "       '9 speed automatic', 'automatic', '10-SPEED A/T',\n",
              "       '8 speed automatic', 'Lineartronic CVT', '8-Speed Automatic Sport',\n",
              "       'xtronic continuously variable (cvt)',\n",
              "       '6-Speed Automatic with Shiftronic',\n",
              "       '10-Speed Automatic with Overdrive',\n",
              "       '6-Speed Automatic Electronic with Overdrive',\n",
              "       '7-Speed Porsche Doppelkupplung (PDK)', 'CVT with Xtronic',\n",
              "       '7-Speed Automatic S tronic', '4-SPEED A/T', '1-SPEED A/T',\n",
              "       '6 speed manual', 'xtronic cvt (continuously variable)',\n",
              "       'Auto, 7-Spd Rev Matching', '10 speed automatic w/selectshift',\n",
              "       '8-Speed Automatic with Tiptronic',\n",
              "       '6 speed automatic w/sportmatic',\n",
              "       'continuously variable w/sport mode', 'xtronic cvt automatic',\n",
              "       '7-Speed Double-clutch', '7-Speed Manual',\n",
              "       'Auto, 7-Spd 7G-Tronic +', '2-Speed Automatic',\n",
              "       '6-Speed Automatic with Tiptronic', '6-Speed Shiftable Automatic',\n",
              "       'Allison 1000 6-Speed Automatic', 'Shiftable Automatic',\n",
              "       '9-Speed Shiftable Automatic',\n",
              "       '6-Speed Automatic with Sequential Shift ECT', 'Automatic 4-Speed',\n",
              "       '6 speed selectshift automatic', 'xtronic cvt',\n",
              "       '6-Speed Electronically Controlled Automatic with O',\n",
              "       '8 Speed Paddle Shift with Automatic Modes',\n",
              "       'Auto 8-Spd Spt Steptrnc'], dtype=object)"
            ]
          },
          "metadata": {},
          "execution_count": 23
        }
      ]
    },
    {
      "cell_type": "code",
      "source": [
        "#New Columns\n",
        "df['TransmissionType'] = ['Automatic' if 'auto' in item.casefold()\n",
        "                         else 'Manual' if 'manual' in item.casefold()\n",
        "                         else 'Other' for item in df['Transmission']]\n"
      ],
      "metadata": {
        "id": "ie3gLtpdRBVG"
      },
      "execution_count": 24,
      "outputs": []
    },
    {
      "cell_type": "code",
      "source": [
        "df['Make'].unique()"
      ],
      "metadata": {
        "colab": {
          "base_uri": "https://localhost:8080/"
        },
        "id": "9JKXLJVfRLPk",
        "outputId": "92efd7c6-9ab0-436c-8cda-9b7e0ce20fe3"
      },
      "execution_count": 25,
      "outputs": [
        {
          "output_type": "execute_result",
          "data": {
            "text/plain": [
              "array(['Toyota', 'Ford', 'RAM', 'Lexus', 'Honda', 'Mercedes-Benz',\n",
              "       'Dodge', 'Subaru', 'BMW', 'Audi', 'Volvo', 'Lincoln', 'Land',\n",
              "       'Acura', 'Chevrolet', 'Tesla', 'Jeep', 'Chrysler', 'Mazda', 'Kia',\n",
              "       'Volkswagen', 'Porsche', 'Nissan', 'Hyundai', 'GMC', 'Buick',\n",
              "       'Genesis', 'INFINITI', 'Cadillac', 'Alfa', 'FIAT', 'Jaguar',\n",
              "       'MINI', 'Maserati', 'Mitsubishi', 'Bentley', 'Mercury',\n",
              "       'Lamborghini', 'Scion', 'Saturn'], dtype=object)"
            ]
          },
          "metadata": {},
          "execution_count": 25
        }
      ]
    },
    {
      "cell_type": "code",
      "source": [
        "\n",
        "make = pd.get_dummies(df['Make'])\n",
        "drivetrain = pd.get_dummies(df['Drivetrain'])\n",
        "transmission = pd.get_dummies(df['TransmissionType'],prefix='TM')\n",
        "fueltype = pd.get_dummies(df['FuelType'],)"
      ],
      "metadata": {
        "id": "a9fAvmcORQI9"
      },
      "execution_count": 29,
      "outputs": []
    },
    {
      "cell_type": "code",
      "source": [
        "columns_to_drop = ['Make','Drivetrain','Transmission','TransmissionType','SellerName',\n",
        "                  'StreetName','State','Zipcode','FuelType','ExteriorColor','InteriorColor',\n",
        "                  'Engine','VIN','Stock#','Year','Model']\n",
        "df.drop(columns_to_drop, axis=1, inplace=True)\n",
        "df = pd.concat([df,make,drivetrain,transmission,fueltype],axis=1)"
      ],
      "metadata": {
        "id": "s3Hl9qHOjfxY"
      },
      "execution_count": 30,
      "outputs": []
    },
    {
      "cell_type": "code",
      "source": [
        "df.info()"
      ],
      "metadata": {
        "colab": {
          "base_uri": "https://localhost:8080/"
        },
        "id": "Qi3y-3mDjitO",
        "outputId": "e29bdbde-8937-4a20-93c7-733ef41a29e8"
      },
      "execution_count": 31,
      "outputs": [
        {
          "output_type": "stream",
          "name": "stdout",
          "text": [
            "<class 'pandas.core.frame.DataFrame'>\n",
            "Int64Index: 9116 entries, 0 to 9378\n",
            "Data columns (total 69 columns):\n",
            " #   Column                 Non-Null Count  Dtype  \n",
            "---  ------                 --------------  -----  \n",
            " 0   Used/New               9116 non-null   int64  \n",
            " 1   Price                  9116 non-null   int64  \n",
            " 2   ConsumerRating         9116 non-null   float64\n",
            " 3   ConsumerReviews        9116 non-null   int64  \n",
            " 4   SellerType             9116 non-null   int64  \n",
            " 5   SellerRating           9116 non-null   float64\n",
            " 6   SellerReviews          9116 non-null   int64  \n",
            " 7   DealType               9116 non-null   object \n",
            " 8   ComfortRating          9116 non-null   float64\n",
            " 9   InteriorDesignRating   9116 non-null   float64\n",
            " 10  PerformanceRating      9116 non-null   float64\n",
            " 11  ValueForMoneyRating    9116 non-null   float64\n",
            " 12  ExteriorStylingRating  9116 non-null   float64\n",
            " 13  ReliabilityRating      9116 non-null   float64\n",
            " 14  MinMPG                 9116 non-null   int64  \n",
            " 15  MaxMPG                 9116 non-null   int64  \n",
            " 16  Mileage                9116 non-null   int64  \n",
            " 17  Acura                  9116 non-null   uint8  \n",
            " 18  Alfa                   9116 non-null   uint8  \n",
            " 19  Audi                   9116 non-null   uint8  \n",
            " 20  BMW                    9116 non-null   uint8  \n",
            " 21  Bentley                9116 non-null   uint8  \n",
            " 22  Buick                  9116 non-null   uint8  \n",
            " 23  Cadillac               9116 non-null   uint8  \n",
            " 24  Chevrolet              9116 non-null   uint8  \n",
            " 25  Chrysler               9116 non-null   uint8  \n",
            " 26  Dodge                  9116 non-null   uint8  \n",
            " 27  FIAT                   9116 non-null   uint8  \n",
            " 28  Ford                   9116 non-null   uint8  \n",
            " 29  GMC                    9116 non-null   uint8  \n",
            " 30  Genesis                9116 non-null   uint8  \n",
            " 31  Honda                  9116 non-null   uint8  \n",
            " 32  Hyundai                9116 non-null   uint8  \n",
            " 33  INFINITI               9116 non-null   uint8  \n",
            " 34  Jaguar                 9116 non-null   uint8  \n",
            " 35  Jeep                   9116 non-null   uint8  \n",
            " 36  Kia                    9116 non-null   uint8  \n",
            " 37  Lamborghini            9116 non-null   uint8  \n",
            " 38  Land                   9116 non-null   uint8  \n",
            " 39  Lexus                  9116 non-null   uint8  \n",
            " 40  Lincoln                9116 non-null   uint8  \n",
            " 41  MINI                   9116 non-null   uint8  \n",
            " 42  Maserati               9116 non-null   uint8  \n",
            " 43  Mazda                  9116 non-null   uint8  \n",
            " 44  Mercedes-Benz          9116 non-null   uint8  \n",
            " 45  Mercury                9116 non-null   uint8  \n",
            " 46  Mitsubishi             9116 non-null   uint8  \n",
            " 47  Nissan                 9116 non-null   uint8  \n",
            " 48  Porsche                9116 non-null   uint8  \n",
            " 49  RAM                    9116 non-null   uint8  \n",
            " 50  Saturn                 9116 non-null   uint8  \n",
            " 51  Scion                  9116 non-null   uint8  \n",
            " 52  Subaru                 9116 non-null   uint8  \n",
            " 53  Tesla                  9116 non-null   uint8  \n",
            " 54  Toyota                 9116 non-null   uint8  \n",
            " 55  Volkswagen             9116 non-null   uint8  \n",
            " 56  Volvo                  9116 non-null   uint8  \n",
            " 57  4WD                    9116 non-null   uint8  \n",
            " 58  AWD                    9116 non-null   uint8  \n",
            " 59  FWD                    9116 non-null   uint8  \n",
            " 60  RWD                    9116 non-null   uint8  \n",
            " 61  TM_Automatic           9116 non-null   uint8  \n",
            " 62  TM_Manual              9116 non-null   uint8  \n",
            " 63  TM_Other               9116 non-null   uint8  \n",
            " 64  Diesel                 9116 non-null   uint8  \n",
            " 65  Electric               9116 non-null   uint8  \n",
            " 66  Flex                   9116 non-null   uint8  \n",
            " 67  Gas                    9116 non-null   uint8  \n",
            " 68  Hybrid                 9116 non-null   uint8  \n",
            "dtypes: float64(8), int64(8), object(1), uint8(52)\n",
            "memory usage: 1.7+ MB\n"
          ]
        }
      ]
    },
    {
      "cell_type": "code",
      "source": [
        ""
      ],
      "metadata": {
        "id": "hQ2P4X3lkJzO"
      },
      "execution_count": null,
      "outputs": []
    }
  ]
}